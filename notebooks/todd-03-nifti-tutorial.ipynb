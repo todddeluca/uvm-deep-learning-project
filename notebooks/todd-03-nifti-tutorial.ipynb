{
 "cells": [
  {
   "cell_type": "markdown",
   "metadata": {},
   "source": [
    "Run through the NIfTI tutorial on the nibabel site.\n",
    "\n",
    "http://nipy.org/nibabel/nifti_images.html"
   ]
  },
  {
   "cell_type": "code",
   "execution_count": null,
   "metadata": {},
   "outputs": [],
   "source": [
    "\n",
    "import numpy as np\n",
    "import pydicom\n",
    "import os\n",
    "from pathlib import Path\n",
    "import seaborn as sns\n",
    "import matplotlib.pyplot as plt\n",
    "from glob import glob\n",
    "from mpl_toolkits.mplot3d.art3d import Poly3DCollection\n",
    "import scipy.ndimage\n",
    "from skimage import morphology\n",
    "from skimage import measure\n",
    "from skimage.transform import resize\n",
    "from scipy.ndimage.interpolation import rotate\n",
    "import projd\n",
    "\n",
    "import nibabel as nib\n",
    "from nibabel.testing import data_path\n",
    "\n",
    "np.set_printoptions(precision=2, suppress=True)\n",
    "\n",
    "%matplotlib inline\n",
    "sns.set()"
   ]
  },
  {
   "cell_type": "code",
   "execution_count": null,
   "metadata": {},
   "outputs": [],
   "source": [
    "# nifti 1 format file\n",
    "example_ni1 = os.path.join(data_path, 'example4d.nii.gz')\n",
    "n1_img = nib.load(example_ni1)\n",
    "n1_img"
   ]
  },
  {
   "cell_type": "code",
   "execution_count": null,
   "metadata": {},
   "outputs": [],
   "source": [
    "# nifti 2 format file\n",
    "example_ni2 = os.path.join(data_path, 'example_nifti2.nii.gz')\n",
    "n2_img = nib.load(example_ni2)\n",
    "n2_img"
   ]
  },
  {
   "cell_type": "code",
   "execution_count": null,
   "metadata": {},
   "outputs": [],
   "source": [
    "n1_header = n1_img.header\n",
    "print(n1_header)"
   ]
  },
  {
   "cell_type": "code",
   "execution_count": null,
   "metadata": {},
   "outputs": [],
   "source": [
    "n2_header = n2_img.header\n",
    "print(n2_header)"
   ]
  },
  {
   "cell_type": "code",
   "execution_count": null,
   "metadata": {},
   "outputs": [],
   "source": [
    "# The affine is used to translate between voxels and \"world coordinates\"\n",
    "# Unlike other formats, the NIfTI header format can specify this affine in one of three ways:\n",
    "# the sform affine, the qform affine and the fall-back header affine.\n",
    "\n",
    "n1_img.affine"
   ]
  },
  {
   "cell_type": "code",
   "execution_count": null,
   "metadata": {},
   "outputs": [],
   "source": [
    "print(n1_header['sform_code'])"
   ]
  },
  {
   "cell_type": "code",
   "execution_count": null,
   "metadata": {},
   "outputs": [],
   "source": [
    "def sample_stack(stack, rows=3, cols=3, start_with=0, show_every=3, r=0):\n",
    "    fig,ax = plt.subplots(rows,cols,figsize=[20,20])\n",
    "    for i in range(rows*cols):\n",
    "        ind = start_with + i*show_every\n",
    "        ax[int(i/rows),int(i % rows)].set_title('slice %d' % ind)\n",
    "        \n",
    "        if r == 0:\n",
    "            ax[int(i/rows),int(i % rows)].imshow(stack[ind],cmap='gray')\n",
    "        else:\n",
    "            ax[int(i/rows),int(i % rows)].imshow(rotate(stack[ind], r),cmap='gray')\n",
    "        \n",
    "        \n",
    "        ax[int(i/rows),int(i % rows)].axis('off')\n",
    "    plt.show()"
   ]
  },
  {
   "cell_type": "code",
   "execution_count": null,
   "metadata": {},
   "outputs": [],
   "source": [
    "imgs = n1_img.get_data()\n",
    "imgs.shape\n",
    "# sample_stack(imgs, show_every=10)"
   ]
  },
  {
   "cell_type": "code",
   "execution_count": null,
   "metadata": {},
   "outputs": [],
   "source": [
    "img1 = imgs[:, :, :, 1]\n",
    "sample_stack(img1)"
   ]
  },
  {
   "cell_type": "code",
   "execution_count": null,
   "metadata": {},
   "outputs": [],
   "source": []
  }
 ],
 "metadata": {
  "language_info": {
   "name": "python",
   "pygments_lexer": "ipython3"
  }
 },
 "nbformat": 4,
 "nbformat_minor": 2
}
