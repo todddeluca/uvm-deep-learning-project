{
 "cells": [
  {
   "cell_type": "code",
   "execution_count": null,
   "metadata": {},
   "outputs": [],
   "source": [
    "\n",
    "import numpy as np\n",
    "import pydicom\n",
    "import os\n",
    "from pathlib import Path\n",
    "import seaborn as sns\n",
    "import matplotlib.pyplot as plt\n",
    "from glob import glob\n",
    "from mpl_toolkits.mplot3d.art3d import Poly3DCollection\n",
    "import scipy.ndimage\n",
    "from skimage import morphology\n",
    "from skimage import measure\n",
    "from skimage.transform import resize\n",
    "from scipy.ndimage.interpolation import rotate\n",
    "import projd\n",
    "\n",
    "%matplotlib inline\n",
    "sns.set()"
   ]
  },
  {
   "cell_type": "code",
   "execution_count": null,
   "metadata": {},
   "outputs": [],
   "source": [
    "# luna data dir\n",
    "\n",
    "# iterate over patients in a data set\n"
   ]
  },
  {
   "cell_type": "code",
   "execution_count": null,
   "metadata": {},
   "outputs": [],
   "source": [
    "#Example pipeline working with only one 'patient'\n",
    "proj_dir = projd.cwd_token_dir('.git') # project root dir\n",
    "print(proj_dir)\n",
    "data_path = str(Path(proj_dir, 'data/DICOM/EXP00000'))\n",
    "print(data_path)\n",
    "output_path = working_path = str(Path(proj_dir, 'data'))\n",
    "g = glob(data_path + '/*')\n",
    "\n",
    "# Print out the first 5 file names to verify we're in the right folder.\n",
    "print (\"Total of %d DICOM images.\\nFirst 5 filenames:\" % len(g))\n",
    "print ('\\n'.join(g[:5]))"
   ]
  },
  {
   "cell_type": "code",
   "execution_count": null,
   "metadata": {},
   "outputs": [],
   "source": [
    "#      \n",
    "# Loop over the image files and store everything into a list.\n",
    "# \n",
    "\n",
    "def load_scan(path):\n",
    "    slices = [pydicom.read_file(path + '/' + s) for s in os.listdir(path)]\n",
    "    slices.sort(key = lambda x: int(x.InstanceNumber))\n",
    "        \n",
    "    return slices\n",
    "\n",
    "def get_pixels_hu(scans):\n",
    "    image = np.stack([s.pixel_array for s in scans])\n",
    "    \n",
    "    #Images already in int16, but just to confirm~ note only 12 bits used\n",
    "    image = image.astype(np.int16)\n",
    "\n",
    "    #If anything outside of scan set to 0\n",
    "    image[image == -2000] = 0\n",
    "    \n",
    "    # Convert to Hounsfield units (HU)\n",
    "    intercept = scans[0].RescaleIntercept\n",
    "    slope = scans[0].RescaleSlope\n",
    "    \n",
    "    if slope != 1:\n",
    "        image = slope * image.astype(np.float64)\n",
    "        image = image.astype(np.int16)\n",
    "        \n",
    "    image += np.int16(intercept)\n",
    "    \n",
    "    return np.array(image, dtype=np.int16)\n",
    "\n",
    "id=0\n",
    "patient = load_scan(data_path)\n",
    "imgs = get_pixels_hu(patient)"
   ]
  },
  {
   "cell_type": "code",
   "execution_count": null,
   "metadata": {},
   "outputs": [],
   "source": [
    "print(imgs.shape)"
   ]
  },
  {
   "cell_type": "code",
   "execution_count": null,
   "metadata": {},
   "outputs": [],
   "source": [
    "#Plot histogram for the data\n",
    "plt.hist(imgs.flatten(), bins=50, color='c')\n",
    "plt.xlabel(\"Hounsfield Units (HU)\")\n",
    "plt.ylabel(\"Frequency\")\n",
    "plt.show()"
   ]
  },
  {
   "cell_type": "code",
   "execution_count": null,
   "metadata": {},
   "outputs": [],
   "source": [
    "#See some examples\n",
    "def sample_stack(stack, rows=3, cols=3, start_with=0, show_every=3, r=0):\n",
    "    fig,ax = plt.subplots(rows,cols,figsize=[20,20])\n",
    "    for i in range(rows*cols):\n",
    "        ind = start_with + i*show_every\n",
    "        ax[int(i/rows),int(i % rows)].set_title('slice %d' % ind)\n",
    "        \n",
    "        if r == 0:\n",
    "            ax[int(i/rows),int(i % rows)].imshow(stack[ind],cmap='gray')\n",
    "        else:\n",
    "            ax[int(i/rows),int(i % rows)].imshow(rotate(stack[ind], r),cmap='gray')\n",
    "        \n",
    "        \n",
    "        ax[int(i/rows),int(i % rows)].axis('off')\n",
    "    plt.show()\n",
    "\n",
    "sample_stack(imgs, show_every=10)"
   ]
  },
  {
   "cell_type": "markdown",
   "metadata": {},
   "source": [
    "Since the stack contains 50% overlap between every image, let's split it into two different stacks, just by even and odd. This leaves us with two disjoint 3D images. "
   ]
  },
  {
   "cell_type": "code",
   "execution_count": null,
   "metadata": {},
   "outputs": [],
   "source": [
    "even_img = np.zeros((107,512,512))\n",
    "odd_img = np.zeros((107,512,512)) #One every in odd, only 213 images, just set to 0\n",
    "\n",
    "n1 = 0\n",
    "n2 = 0\n",
    "\n",
    "for z in range(len(imgs)):\n",
    "    if z % 2 == 0:\n",
    "        even_img[n1] = imgs[z]\n",
    "        n1+=1\n",
    "    else:\n",
    "        odd_img[n2] = imgs[z]\n",
    "        n2+=1"
   ]
  },
  {
   "cell_type": "code",
   "execution_count": null,
   "metadata": {},
   "outputs": [],
   "source": [
    "sample_stack(even_img, start_with=40, show_every=1)"
   ]
  },
  {
   "cell_type": "code",
   "execution_count": null,
   "metadata": {},
   "outputs": [],
   "source": [
    "sample_stack(odd_img, start_with=40, show_every=1)"
   ]
  },
  {
   "cell_type": "markdown",
   "metadata": {},
   "source": [
    "This works fine for the axial view (the default view as shown above), but if we want to view images from the sagittal or the coronal views- we need to resample.  "
   ]
  },
  {
   "cell_type": "code",
   "execution_count": null,
   "metadata": {},
   "outputs": [],
   "source": [
    "#Find the dimensions of each pixel\n",
    "pixel_dim = patient[0].PixelSpacing\n",
    "print(\"Pixel Dimensions: \", pixel_dim)\n",
    "\n",
    "slice_thickness = patient[0].SliceThickness\n",
    "print(\"Slice Thickness: \", slice_thickness)"
   ]
  },
  {
   "cell_type": "markdown",
   "metadata": {},
   "source": [
    "I think it makes sense to just resample the slice thickness down to the same as the pixel dimensions, since they are already uniform."
   ]
  },
  {
   "cell_type": "code",
   "execution_count": null,
   "metadata": {},
   "outputs": [],
   "source": [
    "def resample(image, scan, new_spacing):\n",
    "    \n",
    "    # Determine current pixel spacing\n",
    "    #spacing = map(float, ([scan[0].SliceThickness] + scan[0].PixelSpacing))\n",
    "    #spacing = np.array(list(spacing))\n",
    "    \n",
    "    spacing = np.array([.9, 0.29296875, 0.29296875])\n",
    "\n",
    "    resize_factor = spacing / new_spacing\n",
    "    new_real_shape = image.shape * resize_factor\n",
    "    \n",
    "    new_shape = np.round(new_real_shape)\n",
    "    real_resize_factor = new_shape / image.shape\n",
    "    \n",
    "    new_spacing = spacing / real_resize_factor\n",
    "    \n",
    "    \n",
    "    image = scipy.ndimage.interpolation.zoom(image, real_resize_factor)\n",
    "    return image, new_spacing\n",
    "\n",
    "# Resample to 1mm spacing, typical for deep learning on CT examples seen so far.\n",
    "# This might make a good hyperparam.  We might need fine detail that this size change blurs.\n",
    "\n",
    "print('Shape before resampleing\\t', even_img.shape)\n",
    "post_even, even_spacing = resample(even_img, patient, [1,1,1])\n",
    "print (\"Shape after resampling\\t\", post_even.shape, even_spacing)\n",
    "\n",
    "print('Shape before resampleing\\t', odd_img.shape)\n",
    "post_odd, odd_spacing = resample(odd_img, patient, [1,1,1])\n",
    "print (\"Shape after resampling\\t\", post_odd.shape, odd_spacing)"
   ]
  },
  {
   "cell_type": "markdown",
   "metadata": {},
   "source": [
    "Now if we look at the images post sampling, they look simmilar, but now each slice represents ~.3mm instead of .9mm."
   ]
  },
  {
   "cell_type": "code",
   "execution_count": null,
   "metadata": {},
   "outputs": [],
   "source": [
    "sample_stack(post_even, start_with=40, show_every=1)"
   ]
  },
  {
   "cell_type": "code",
   "execution_count": null,
   "metadata": {},
   "outputs": [],
   "source": [
    "sample_stack(post_odd, start_with=40, show_every=5)"
   ]
  },
  {
   "cell_type": "markdown",
   "metadata": {},
   "source": [
    "It is also easy to now view these images from new views (let's just look at the even for simplicity)\n",
    "\n",
    "First, coronal~"
   ]
  },
  {
   "cell_type": "code",
   "execution_count": null,
   "metadata": {},
   "outputs": [],
   "source": [
    "#Coronal transposition\n",
    "p = post_even.transpose(1,0,2)\n",
    "\n",
    "print(\"New shape:\", p.shape)\n",
    "\n",
    "sample_stack(p, start_with=30, show_every=3, r=0)"
   ]
  },
  {
   "cell_type": "code",
   "execution_count": null,
   "metadata": {},
   "outputs": [],
   "source": [
    "p = post_even.transpose(2,0,1)\n",
    "\n",
    "print(\"New shape:\", p.shape)\n",
    "sample_stack(p, start_with=30, show_every=10)"
   ]
  },
  {
   "cell_type": "markdown",
   "metadata": {},
   "source": [
    "Note, I'm not quite sure on the standard, the sagittal seems to be in the standard orientation, but the coronal might be mirrored? Not that it matters too much anyway, I expect mirroring/random skews will be applied regardless. "
   ]
  },
  {
   "cell_type": "code",
   "execution_count": null,
   "metadata": {},
   "outputs": [],
   "source": []
  }
 ],
 "metadata": {
  "language_info": {
   "name": "python",
   "pygments_lexer": "ipython3"
  }
 },
 "nbformat": 4,
 "nbformat_minor": 2
}
