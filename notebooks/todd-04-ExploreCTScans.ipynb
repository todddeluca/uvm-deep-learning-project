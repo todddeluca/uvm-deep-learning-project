{
 "cells": [
  {
   "cell_type": "markdown",
   "metadata": {},
   "source": [
    "Explore some CT scans from UVMMC\n"
   ]
  },
  {
   "cell_type": "markdown",
   "metadata": {},
   "source": [
    "## Imports"
   ]
  },
  {
   "cell_type": "code",
   "execution_count": null,
   "metadata": {},
   "outputs": [],
   "source": [
    "\n",
    "from glob import glob\n",
    "import imageio\n",
    "from IPython.display import Image\n",
    "import matplotlib.pyplot as plt\n",
    "from mpl_toolkits.mplot3d.art3d import Poly3DCollection\n",
    "import nibabel as nib\n",
    "from nibabel.testing import data_path\n",
    "import numpy as np\n",
    "import os\n",
    "import pandas as pd\n",
    "from pathlib import Path\n",
    "import projd\n",
    "import pydicom\n",
    "import re\n",
    "import seaborn as sns\n",
    "import scipy.ndimage\n",
    "from scipy.ndimage.interpolation import rotate\n",
    "from skimage import morphology\n",
    "from skimage import measure\n",
    "from skimage.transform import resize\n",
    "import uuid\n",
    "\n",
    "np.set_printoptions(precision=2, suppress=True)\n",
    "%matplotlib inline\n",
    "sns.set()"
   ]
  },
  {
   "cell_type": "markdown",
   "metadata": {},
   "source": [
    "## Constants"
   ]
  },
  {
   "cell_type": "code",
   "execution_count": null,
   "metadata": {},
   "outputs": [],
   "source": [
    "data_dir = Path('~/data/2018').expanduser()\n",
    "normal_scans_dir = data_dir / 'uvmmc/nifti_normals'\n",
    "gif_path = str(Path('~/Downloads/test.gif').expanduser())\n"
   ]
  },
  {
   "cell_type": "code",
   "execution_count": null,
   "metadata": {},
   "outputs": [],
   "source": [
    "def temp_gif_path():\n",
    "    return str(Path('~/Downloads').expanduser() / ('tmp_' + uuid.uuid4().hex + '.gif'))\n",
    "\n",
    "    \n",
    "def get_nifti_files(path):\n",
    "    '''\n",
    "    Return a list of Path objs for every .nii file within path.\n",
    "    '''\n",
    "    return list(path.glob('**/*.nii'))\n",
    "\n",
    "def sample_stack(stack, rows=3, cols=3, start_with=0, show_every=3, r=0):\n",
    "    '''\n",
    "    stack: 3-d voxel array.\n",
    "    '''\n",
    "    fig, ax = plt.subplots(rows, cols, figsize=[20, 20])\n",
    "    for i in range(rows * cols):\n",
    "        ind = start_with + i * show_every\n",
    "        ax[i // cols, i % cols].set_title('slice %d' % ind)\n",
    "        \n",
    "        if r == 0:\n",
    "            ax[i // cols, i % cols].imshow(stack[:, :, ind], cmap='gray')\n",
    "        else:\n",
    "            ax[i // cols, i % cols].imshow(rotate(stack[:, :, ind], r), cmap='gray')\n",
    "        \n",
    "        \n",
    "        ax[i // cols, i % cols].axis('off')\n",
    "    plt.show()\n",
    "\n",
    "\n",
    "def make_animated_gif(path, img, start=0, stop=None, step=1):\n",
    "    '''\n",
    "    Create animated gif of 3d image, where each frame is a 2-d image taken from \n",
    "    iterating across the 3rd dimension.  E.g. the ith 2d image is img[:, :, i]\n",
    "    path: where to save the animated gif\n",
    "    img: a 3-d volume\n",
    "    start: index of 3rd dimension to start iterating at.  default = 0.\n",
    "    stop: index of 3rd dimension to stop at, not inclusive.  Default is None, meaning stop at img.shape[2].\n",
    "    step: number of slices to skip    \n",
    "    '''\n",
    "    # convert to uint8 to suppress warnings from imageio\n",
    "    imax = img.max()\n",
    "    imin = img.min()\n",
    "    img = 255 * ((img - imin) / (imax - imin)) # scale to 0..255\n",
    "    img = np.uint8(img)\n",
    "    \n",
    "    with imageio.get_writer(path, mode='I') as writer:\n",
    "        for i in range(start, img.shape[2], step):\n",
    "            writer.append_data(img[:, :, i])\n",
    "\n",
    "    \n",
    "def animate_crop(img, crop=(0, 1, 0, 1, 0, 1), axis=2, step=5):\n",
    "    '''\n",
    "    img: a 3d volume to be cropped and animated.\n",
    "    axis: 0, 1, 2: the axis to animate along.  img will be transposed s.t. this axis is the 3rd axis.\n",
    "    crop: 6 element list: axis 0 start position, axis 0 end position, axis 1 start position, etc.  Each position \n",
    "      is a number in [0.0, 1.0] representing the position as a proportion of that axis.  0.0 is the beginning,\n",
    "      1.0 the end, and 0.5 the middle.\n",
    "    step: only include every nth frame in the animation, where each frame is a 2d slice of img.\n",
    "    return: ipython Image, for display in a notebook.\n",
    "    '''\n",
    "    # as a proportion of the total range, range of axis 0, 1, and 2 that should be included in the volume\n",
    "    prop0 = crop[0:2]\n",
    "    prop1 = crop[2:4]\n",
    "    prop2 = crop[4:6]\n",
    "    # as specific voxel coordinates, range of axis 0, 1, and 2 that should be included in the volume\n",
    "    pix0 = [int(p * img.shape[0]) for p in prop0]\n",
    "    pix1 = [int(p * img.shape[1]) for p in prop1]\n",
    "    pix2 = [int(p * img.shape[2]) for p in prop2]\n",
    "\n",
    "    cropped_img = img[pix0[0]:pix0[1], pix1[0]:pix1[1], pix2[0]:pix2[1]]\n",
    "    # rotate axes for animation\n",
    "    cropped_img = cropped_img.transpose([0,1,2][-(2-axis):] + [0,1,2][:-(2-axis)])\n",
    "    \n",
    "    tmp_path = temp_gif_path()\n",
    "    print('temp gif path:', tmp_path)\n",
    "    make_animated_gif(tmp_path, cropped_img, step=step)\n",
    "    return Image(filename=tmp_path)\n",
    "\n",
    "\n",
    "def animate_scan_info_crop(scan_info, i, crop=(0, 1, 0, 1, 0, 1), axis=0, step=3):\n",
    "    path = scan_info.loc[i, 'path']\n",
    "    print('scan path:', path)\n",
    "    img = nib.load(path).get_data()\n",
    "    print('scan img shape:', img.shape)\n",
    "    return animate_crop(img, crop, axis=axis, step=step)\n",
    "    \n"
   ]
  },
  {
   "cell_type": "code",
   "execution_count": null,
   "metadata": {},
   "outputs": [],
   "source": [
    "scan_paths = get_nifti_files(normal_scans_dir)"
   ]
  },
  {
   "cell_type": "markdown",
   "metadata": {},
   "source": [
    "## Load a nifti file"
   ]
  },
  {
   "cell_type": "code",
   "execution_count": null,
   "metadata": {},
   "outputs": [],
   "source": [
    "nft1 = nib.load(str(scan_paths[0]))\n",
    "print(scan_paths[0])"
   ]
  },
  {
   "cell_type": "markdown",
   "metadata": {},
   "source": [
    "## Examine the header\n",
    "\n",
    "The header tells us the voxel size and image dimensions, among other things."
   ]
  },
  {
   "cell_type": "code",
   "execution_count": null,
   "metadata": {},
   "outputs": [],
   "source": [
    "# This tells us what the file format is, the pixel dimensions, the image dimensions, the affine type.\n",
    "# This is a nifti 1 file, not a nifti 2 file.\n",
    "print(nft1.header)"
   ]
  },
  {
   "cell_type": "markdown",
   "metadata": {},
   "source": [
    "## Examine the Affine\n",
    "\n",
    "The affine of a nifti file is an affine tranformation matrix relating voxel coordinates to a set of reference coordinates.\n",
    "\n",
    "The affine type is qform, not sform, as can be seen from the qform_code and sform_code fields of the header.\n",
    "\n",
    "The reference (world coordinates) are \"scanner\".\n",
    "\n",
    "The pixel dimensions are: 0.34  0.34  0.45.  These are mm, I guess.\n"
   ]
  },
  {
   "cell_type": "code",
   "execution_count": null,
   "metadata": {},
   "outputs": [],
   "source": [
    "# The affine is used to translate between voxels and \"world coordinates\"\n",
    "# Unlike other formats, the NIfTI header format can specify this affine in one of three ways:\n",
    "# the sform affine, the qform affine and the fall-back header affine.\n",
    "\n",
    "# The affine is a diagonal matrix (+ transpose).  The axis 0 (mediolateral) entry (-0.34) is negative, \n",
    "# meaning an increase along the voxel dimension corresonds to a decrease along the world dimensions.\n",
    "# I think nibabel tries to make voxels RAS+\n",
    "nft1.affine"
   ]
  },
  {
   "cell_type": "markdown",
   "metadata": {},
   "source": [
    "## Visualize the Scan"
   ]
  },
  {
   "cell_type": "code",
   "execution_count": null,
   "metadata": {},
   "outputs": [],
   "source": [
    "# get the image data\n",
    "\n",
    "img1 = nft1.get_data()\n",
    "img1.shape"
   ]
  },
  {
   "cell_type": "code",
   "execution_count": null,
   "metadata": {},
   "outputs": [],
   "source": [
    "# axial/transverse view of cervical spine (traversing the inferosuperior axis)\n",
    "# voxel axis 2 == inferosuperior axis, S+ (larger numbers are more superior)\n",
    "sample_stack(img1, rows=3, cols=3, show_every=20, start_with=200, r=0)\n"
   ]
  },
  {
   "cell_type": "code",
   "execution_count": null,
   "metadata": {},
   "outputs": [],
   "source": [
    "# frontal/coronal view of cervical spine (traversing the anteroposteior axis)\n",
    "# voxel axis 1 == anteroposterior axis, A+ (larger numbers are more anterior)\n",
    "sample_stack(img1.transpose([2, 0, 1]), rows=3, cols=3, show_every=30, start_with=150, r=0)"
   ]
  },
  {
   "cell_type": "code",
   "execution_count": null,
   "metadata": {},
   "outputs": [],
   "source": [
    "# median/sagittal view of cervical spine (traversing the mediolateral axis)\n",
    "# voxel axis 0 == mediolateral axis, R+ (larger numbers are superior)\n",
    "sample_stack(img1.transpose([1, 2, 0]), rows=3, cols=3, show_every=20, start_with=img1.shape[0] // 2, r=0)"
   ]
  },
  {
   "cell_type": "markdown",
   "metadata": {},
   "source": [
    "## What part of the image contains the c2 vertebra?\n",
    "\n",
    "For img1, the whole c2 verterbra fits within a volume that is ~6% of the size of the total volume.  See the animated gifs below."
   ]
  },
  {
   "cell_type": "markdown",
   "metadata": {},
   "source": [
    "### What the c2 (axis) and c1 (atlas) vertebrae look like and how they fit together."
   ]
  },
  {
   "cell_type": "code",
   "execution_count": null,
   "metadata": {},
   "outputs": [],
   "source": [
    "Image(url='http://www.backpain-guide.com/Chapter_Fig_folders/Ch05_Anatomy_Folder/Ch5_Images/05-3_C1_and_C2.jpg')"
   ]
  },
  {
   "cell_type": "markdown",
   "metadata": {},
   "source": [
    "### The whole scan, animated"
   ]
  },
  {
   "cell_type": "code",
   "execution_count": null,
   "metadata": {},
   "outputs": [],
   "source": [
    "animate_crop(img1, axis=0, step=15)"
   ]
  },
  {
   "cell_type": "code",
   "execution_count": null,
   "metadata": {},
   "outputs": [],
   "source": [
    "# Crop the total volume to a subspace that contains all of the c2 vertebra.\n",
    "# as a proportion of the total range, range of axis 0, 1, and 2 that should be included in the volume\n",
    "prop0 = (0.25, 0.7) # ~45% of total range\n",
    "prop1 = (0.3, 0.75) # ~45% of total range\n",
    "prop2 = (.52, 0.80) # ~30% of total range\n",
    "\n",
    "animate_crop(img1, crop=prop0 + prop1 + prop2, axis=0, step=5)\n"
   ]
  },
  {
   "cell_type": "markdown",
   "metadata": {},
   "source": [
    "## Examine distribution of image features across all images\n",
    "\n",
    "Examine the variance in pixel sizes, in image dimensions.  Are all the affines diagonal matrices (except the transposition part)?  Etc.  This is part of our data quality pipeline, where we learn about the consistencies and variety in the scans. "
   ]
  },
  {
   "cell_type": "code",
   "execution_count": null,
   "metadata": {},
   "outputs": [],
   "source": [
    "# scan info will contain metadata about each of the scans in the small dataset we are examining\n",
    "scan_info = pd.DataFrame({'id': [re.sub('\\.nii$', '', p.name) for p in scan_paths], 'path': [str(p) for p in scan_paths]})\n",
    "scan_info.head()"
   ]
  },
  {
   "cell_type": "code",
   "execution_count": null,
   "metadata": {},
   "outputs": [],
   "source": [
    "scan_info['nft'] = scan_info.path.apply(lambda p: nib.load(p))\n",
    "scan_info['header'] = scan_info.nft.apply(lambda nft: nft.header)\n",
    "scan_info['affine'] = scan_info.nft.apply(lambda nft: nft.affine)\n",
    "scan_info['pixdim'] = scan_info.header.apply(lambda h: h['pixdim'][1:4])\n",
    "scan_info['dim'] = scan_info.header.apply(lambda h: h['dim'][1:4])\n",
    "scan_info['qform_code'] = scan_info.header.apply(lambda h: h['qform_code'])\n",
    "scan_info['sform_code'] = scan_info.header.apply(lambda h: h['sform_code'])\n",
    "scan_info['sizeof_hdr'] = scan_info.header.apply(lambda h: h['sizeof_hdr'])\n",
    "scan_info['pixdim0'] = scan_info.pixdim.apply(lambda x: x[0])\n",
    "scan_info['pixdim1'] = scan_info.pixdim.apply(lambda x: x[1])\n",
    "scan_info['pixdim2'] = scan_info.pixdim.apply(lambda x: x[2])\n",
    "scan_info['dim0'] = scan_info.dim.apply(lambda x: x[0])\n",
    "scan_info['dim1'] = scan_info.dim.apply(lambda x: x[1])\n",
    "scan_info['dim2'] = scan_info.dim.apply(lambda x: x[2])\n",
    "scan_info['desc'] = scan_info.header.apply(lambda h: h['descrip'])\n",
    "\n",
    "scan_info.head()\n",
    "# scan_info.describe()"
   ]
  },
  {
   "cell_type": "code",
   "execution_count": null,
   "metadata": {},
   "outputs": [],
   "source": [
    "# Distributions of pixel dimensions and volume dimensions\n",
    "\n",
    "fig, ax = plt.subplots(2, 3)# , figsize=[20, 20])\n",
    "ax[0, 0].hist(scan_info.pixdim0)\n",
    "ax[0, 1].hist(scan_info.pixdim1)\n",
    "ax[0, 2].hist(scan_info.pixdim2)\n",
    "ax[1, 0].hist(scan_info.dim0)\n",
    "ax[1, 1].hist(scan_info.dim1)\n",
    "ax[1, 2].hist(scan_info.dim2)\n",
    "ax[0,0].set_title('pixdim 0')\n",
    "ax[0,1].set_title('pixdim 1')\n",
    "ax[0,2].set_title('pixdim 2')\n",
    "ax[1,0].set_title('dim 0')\n",
    "ax[1,1].set_title('dim 1')\n",
    "ax[1,2].set_title('dim 2')\n",
    "plt.tight_layout()\n",
    "\n",
    "plt.show()"
   ]
  },
  {
   "cell_type": "code",
   "execution_count": null,
   "metadata": {},
   "outputs": [],
   "source": [
    "# Make some assertions about what assume to be constant across all images\n",
    "\n",
    "# all images are 512 x 512 x ?\n",
    "assert (scan_info.dim0 == 512).all()\n",
    "assert (scan_info.dim1 == 512).all()\n",
    "\n",
    "# all images use the qform affine\n",
    "assert (scan_info.qform_code == 1).all()\n",
    "assert (scan_info.sform_code == 0).all()\n",
    "\n",
    "# all images have matching pixel sizes in dimensions 0 and 1\n",
    "assert (scan_info.pixdim0 == scan_info.pixdim1).all()\n",
    "\n",
    "# all nifti files are nifti 1 format (and so have a header size of 348).\n",
    "assert (scan_info.sizeof_hdr == 348).all()"
   ]
  },
  {
   "cell_type": "code",
   "execution_count": null,
   "metadata": {},
   "outputs": [],
   "source": [
    "# What are the descriptions\n",
    "for i in range(len(scan_info)):\n",
    "    print(scan_info.iloc[i]['id'], scan_info.iloc[i]['desc'])\n"
   ]
  },
  {
   "cell_type": "code",
   "execution_count": null,
   "metadata": {},
   "outputs": [],
   "source": [
    "# Which scans do not have a vertical pixel dimension that is 0.45 +/- 0.001\n",
    "scan_info[(scan_info.pixdim2 < 0.449) | (scan_info.pixdim2 > 0.451)]"
   ]
  },
  {
   "cell_type": "code",
   "execution_count": null,
   "metadata": {},
   "outputs": [],
   "source": [
    "# Take a closer look at the variance in mediolateral, anteroposterior, and inferosuperior pixel sizes\n",
    "fig, ax = plt.subplots(3, figsize=(5, 7))\n",
    "ax[0].hist(scan_info.pixdim0, bins=100)\n",
    "ax[0].set_title('Distribution of pixel dimension 0 (mediolateral)')\n",
    "ax[1].hist(scan_info.pixdim1, bins=100)\n",
    "ax[1].set_title('Distribution of pixel dimension 1 (anteroposterior)')\n",
    "ax[2].hist(scan_info.pixdim2, bins=100)\n",
    "ax[2].set_title('Distribution of pixel dimension 2 (inferosuperior)')\n",
    "plt.tight_layout()\n",
    "plt.show()\n"
   ]
  },
  {
   "cell_type": "code",
   "execution_count": null,
   "metadata": {},
   "outputs": [],
   "source": [
    "print('mode for pixel dimensions 0, 1, 2:', scan_info.pixdim0.mode()[0], scan_info.pixdim1.mode()[0], \n",
    "      scan_info.pixdim2.mode()[0])\n",
    "print('size of mode for pixdim0:', (scan_info.pixdim0 == scan_info.pixdim0.mode()[0]).sum())"
   ]
  },
  {
   "cell_type": "code",
   "execution_count": null,
   "metadata": {},
   "outputs": [],
   "source": [
    "plt.hist(scan_info.dim2, bins=100)\n",
    "plt.title('Distribution of anterosuperior size of image')\n",
    "plt.show()"
   ]
  },
  {
   "cell_type": "markdown",
   "metadata": {},
   "source": [
    "## C2 vertebra locations in the scans\n",
    "\n",
    "To develop some intuition as to approximately where the c2 vertebra is located in each scan, examine multiple scans and crop the c2 vertebra, like we did earlier for the first scan."
   ]
  },
  {
   "cell_type": "code",
   "execution_count": null,
   "metadata": {},
   "outputs": [],
   "source": [
    "# axis 0 start, axis 0 end, axis 1 start, axis 1 end, axis 2 start, axis 2 end\n",
    "# units are fraction of the total axis length, so they are in the range [0.0, 1.0]\n",
    "c2_crops = [('/Users/tfd/data/2018/uvmmc/nifti_normals/Sept_normals_nii/101944_332.nii',\n",
    "             (0.25, 0.7, 0.3, 0.75, .52, 0.80)),\n",
    "           ]\n"
   ]
  },
  {
   "cell_type": "code",
   "execution_count": null,
   "metadata": {},
   "outputs": [],
   "source": [
    "animate_crop(img1, c2_crops[0][1], step=2, axis=1)"
   ]
  },
  {
   "cell_type": "code",
   "execution_count": null,
   "metadata": {},
   "outputs": [],
   "source": [
    "path = scan_info.loc[1, 'path']\n",
    "print(path)\n",
    "img = nib.load(path).get_data()\n",
    "print(img.shape)\n"
   ]
  },
  {
   "cell_type": "code",
   "execution_count": null,
   "metadata": {},
   "outputs": [],
   "source": [
    "crop = (0.25, 0.7, 0.3, 0.75, .52, 0.8) # \n",
    "animate_crop(img, crop, axis=0, step=3)"
   ]
  },
  {
   "cell_type": "code",
   "execution_count": null,
   "metadata": {},
   "outputs": [],
   "source": [
    "path = scan_info.loc[2, 'path']\n",
    "print(path)\n",
    "img = nib.load(path).get_data()\n",
    "print(img.shape)\n"
   ]
  },
  {
   "cell_type": "code",
   "execution_count": null,
   "metadata": {},
   "outputs": [],
   "source": [
    "crop = (0.25, 0.7, 0.3, 0.75, .52, 0.8) # \n",
    "# crop = (0.1, 0.9, 0.1, 0.9, .3, 0.9) # \n",
    "animate_crop(img, crop, axis=0, step=3)"
   ]
  },
  {
   "cell_type": "code",
   "execution_count": null,
   "metadata": {},
   "outputs": [],
   "source": [
    "path = scan_info.loc[3, 'path']\n",
    "print(path)\n",
    "img = nib.load(path).get_data()\n",
    "print(img.shape)\n"
   ]
  },
  {
   "cell_type": "code",
   "execution_count": null,
   "metadata": {},
   "outputs": [],
   "source": [
    "crop = (0.25, 0.7, 0.3, 0.75, .52, 0.8) # \n",
    "# crop = (0.1, 0.9, 0.1, 0.9, .3, 0.9) # \n",
    "animate_crop(img, crop, axis=0, step=3)"
   ]
  },
  {
   "cell_type": "code",
   "execution_count": null,
   "metadata": {},
   "outputs": [],
   "source": [
    "animate_scan_info_crop(scan_info, 0, crop=(0.25, 0.7, 0.3, 0.75, .52, 0.8))\n",
    "# animate_scan_info_crop(scan_info, 0)"
   ]
  },
  {
   "cell_type": "code",
   "execution_count": null,
   "metadata": {},
   "outputs": [],
   "source": [
    "animate_scan_info_crop(scan_info, 1, crop=(.3, .7, .15, .65, .5, .9))"
   ]
  },
  {
   "cell_type": "code",
   "execution_count": null,
   "metadata": {},
   "outputs": [],
   "source": [
    "animate_scan_info_crop(scan_info, 2, crop=(.2, .65, .45, .95, .45, .8))"
   ]
  },
  {
   "cell_type": "code",
   "execution_count": null,
   "metadata": {},
   "outputs": [],
   "source": [
    "animate_scan_info_crop(scan_info, 3, crop=(.35, .75, .2, .65, .5, .8))"
   ]
  },
  {
   "cell_type": "code",
   "execution_count": null,
   "metadata": {},
   "outputs": [],
   "source": [
    "animate_scan_info_crop(scan_info, 4, crop=(.27, .72, .4, .9, .5, .8))"
   ]
  },
  {
   "cell_type": "code",
   "execution_count": null,
   "metadata": {},
   "outputs": [],
   "source": [
    "animate_scan_info_crop(scan_info, 5, crop=(.35, .8, .48, .95, .5, .75))"
   ]
  },
  {
   "cell_type": "code",
   "execution_count": null,
   "metadata": {},
   "outputs": [],
   "source": [
    "animate_scan_info_crop(scan_info, 6, crop=(.28, .72, .3, .72, .5, .8))"
   ]
  },
  {
   "cell_type": "code",
   "execution_count": null,
   "metadata": {},
   "outputs": [],
   "source": [
    "animate_scan_info_crop(scan_info, 7, crop=(.3, .7, .4, .8, .5, .8))"
   ]
  },
  {
   "cell_type": "code",
   "execution_count": null,
   "metadata": {},
   "outputs": [],
   "source": [
    "animate_scan_info_crop(scan_info, 8, crop=(.4, .8, .35, .75, .45, .8))"
   ]
  },
  {
   "cell_type": "code",
   "execution_count": null,
   "metadata": {},
   "outputs": [],
   "source": [
    "animate_scan_info_crop(scan_info, 7, crop=(.5, .9, .3, .8, .45, .8))"
   ]
  },
  {
   "cell_type": "markdown",
   "metadata": {},
   "source": [
    "## Examine the Variation of Scan Affines"
   ]
  },
  {
   "cell_type": "code",
   "execution_count": null,
   "metadata": {},
   "outputs": [],
   "source": [
    "# Look at all the affine transformations\n",
    "\n",
    "for i in range(len(scan_info)):\n",
    "    print(scan_info.iloc[i]['affine'])"
   ]
  },
  {
   "cell_type": "code",
   "execution_count": null,
   "metadata": {},
   "outputs": [],
   "source": [
    "# Check that all the non-translation parts of the affine matrix are diagonal.\n",
    "# This means that the affine transformation scales/zooms and translates, but does not rotate.\n",
    "\n",
    "# http://nipy.org/nibabel/coordinate_systems.html#the-affine-matrix-as-a-transformation-between-spaces\n",
    "def is_diagonal_affine(affine):\n",
    "    '''\n",
    "    affine: e.g. \n",
    "    array([[  -0.34,    0.  ,    0.  ,   72.45],\n",
    "           [   0.  ,    0.34,    0.  , -248.76],\n",
    "           [   0.  ,    0.  ,    0.45,   22.1 ],\n",
    "           [   0.  ,    0.  ,    0.  ,    1.  ]])\n",
    "    '''\n",
    "    mat = affine[:3, :3]\n",
    "    return np.count_nonzero(mat - np.diag(np.diag(mat))) == 0\n",
    "\n",
    "# Make some assertions about what we've seen in the affine transformations\n",
    "\n",
    "# All affines do no rotation (the upper left 3x3 matrix within the affine is diagonal)\n",
    "assert scan_info['affine'].apply(is_diagonal_affine).all()\n",
    "# All affines mirror axis 0, but not axis 1 or 2\n",
    "assert (scan_info['affine'].apply(lambda a: a[0, 0] < 0)).all()\n",
    "assert (scan_info['affine'].apply(lambda a: a[1, 1] > 0)).all()\n",
    "assert (scan_info['affine'].apply(lambda a: a[2, 2] > 0)).all()\n",
    "    "
   ]
  },
  {
   "cell_type": "code",
   "execution_count": null,
   "metadata": {},
   "outputs": [],
   "source": []
  }
 ],
 "metadata": {
  "language_info": {
   "name": "python",
   "pygments_lexer": "ipython3"
  }
 },
 "nbformat": 4,
 "nbformat_minor": 2
}
